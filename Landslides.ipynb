{
 "cells": [
  {
   "cell_type": "markdown",
   "id": "1dbd7af1-efe5-4105-b750-170bac0c61bb",
   "metadata": {},
   "source": [
    "# Landlides!"
   ]
  },
  {
   "cell_type": "code",
   "execution_count": 50,
   "id": "189dbe72-4e6f-4bfa-ad3a-896a5c9f6f4a",
   "metadata": {},
   "outputs": [],
   "source": [
    "import pandas as pd\n",
    "import numpy as np\n",
    "import sklearn as sk\n",
    "from sklearn.model_selection import train_test_split"
   ]
  },
  {
   "cell_type": "code",
   "execution_count": 51,
   "id": "a9c1ec3a-36d6-4c63-9e4b-3fd8eb8f2581",
   "metadata": {},
   "outputs": [],
   "source": [
    "#this comes in handy throughout\n",
    "def print_results(results):\n",
    "    print(\"Training set score: {:.2f}\".format(results[0]))\n",
    "    print(\"Test set score: {:.2f}\".format(results[1]))"
   ]
  },
  {
   "cell_type": "markdown",
   "id": "48b541b9-d894-4247-8754-fe958a3f5aeb",
   "metadata": {},
   "source": [
    "## Pre-Processing the Data"
   ]
  },
  {
   "cell_type": "code",
   "execution_count": 52,
   "id": "ba46a52c-6144-4c29-aa54-8adfd5bc19bf",
   "metadata": {},
   "outputs": [
    {
     "data": {
      "text/html": [
       "<div>\n",
       "<style scoped>\n",
       "    .dataframe tbody tr th:only-of-type {\n",
       "        vertical-align: middle;\n",
       "    }\n",
       "\n",
       "    .dataframe tbody tr th {\n",
       "        vertical-align: top;\n",
       "    }\n",
       "\n",
       "    .dataframe thead th {\n",
       "        text-align: right;\n",
       "    }\n",
       "</style>\n",
       "<table border=\"1\" class=\"dataframe\">\n",
       "  <thead>\n",
       "    <tr style=\"text-align: right;\">\n",
       "      <th></th>\n",
       "      <th>landslide_category</th>\n",
       "      <th>landslide_size</th>\n",
       "      <th>fatality_count</th>\n",
       "      <th>event_date</th>\n",
       "      <th>landslide_trigger</th>\n",
       "      <th>landslide_setting</th>\n",
       "      <th>country_name</th>\n",
       "      <th>country_code</th>\n",
       "      <th>admin_division_population</th>\n",
       "      <th>longitude</th>\n",
       "      <th>latitude</th>\n",
       "    </tr>\n",
       "  </thead>\n",
       "  <tbody>\n",
       "    <tr>\n",
       "      <th>0</th>\n",
       "      <td>landslide</td>\n",
       "      <td>large</td>\n",
       "      <td>11.0</td>\n",
       "      <td>8/1/2008 0:00</td>\n",
       "      <td>rain</td>\n",
       "      <td>mine</td>\n",
       "      <td>China</td>\n",
       "      <td>CN</td>\n",
       "      <td>0.0</td>\n",
       "      <td>107.450000</td>\n",
       "      <td>32.562500</td>\n",
       "    </tr>\n",
       "    <tr>\n",
       "      <th>1</th>\n",
       "      <td>mudslide</td>\n",
       "      <td>small</td>\n",
       "      <td>0.0</td>\n",
       "      <td>1/2/2009 2:00</td>\n",
       "      <td>downpour</td>\n",
       "      <td>unknown</td>\n",
       "      <td>United States</td>\n",
       "      <td>US</td>\n",
       "      <td>36619.0</td>\n",
       "      <td>-122.663000</td>\n",
       "      <td>45.420000</td>\n",
       "    </tr>\n",
       "    <tr>\n",
       "      <th>2</th>\n",
       "      <td>landslide</td>\n",
       "      <td>large</td>\n",
       "      <td>10.0</td>\n",
       "      <td>1/19/2007 0:00</td>\n",
       "      <td>downpour</td>\n",
       "      <td>unknown</td>\n",
       "      <td>Peru</td>\n",
       "      <td>PE</td>\n",
       "      <td>14708.0</td>\n",
       "      <td>-75.358700</td>\n",
       "      <td>-11.129500</td>\n",
       "    </tr>\n",
       "    <tr>\n",
       "      <th>3</th>\n",
       "      <td>landslide</td>\n",
       "      <td>medium</td>\n",
       "      <td>1.0</td>\n",
       "      <td>7/31/2009 0:00</td>\n",
       "      <td>monsoon</td>\n",
       "      <td>unknown</td>\n",
       "      <td>Nepal</td>\n",
       "      <td>NP</td>\n",
       "      <td>20908.0</td>\n",
       "      <td>81.708000</td>\n",
       "      <td>28.837800</td>\n",
       "    </tr>\n",
       "    <tr>\n",
       "      <th>4</th>\n",
       "      <td>landslide</td>\n",
       "      <td>medium</td>\n",
       "      <td>0.0</td>\n",
       "      <td>10/16/2010 12:00</td>\n",
       "      <td>tropical_cyclone</td>\n",
       "      <td>unknown</td>\n",
       "      <td>Philippines</td>\n",
       "      <td>PH</td>\n",
       "      <td>798634.0</td>\n",
       "      <td>123.897800</td>\n",
       "      <td>10.333600</td>\n",
       "    </tr>\n",
       "    <tr>\n",
       "      <th>...</th>\n",
       "      <td>...</td>\n",
       "      <td>...</td>\n",
       "      <td>...</td>\n",
       "      <td>...</td>\n",
       "      <td>...</td>\n",
       "      <td>...</td>\n",
       "      <td>...</td>\n",
       "      <td>...</td>\n",
       "      <td>...</td>\n",
       "      <td>...</td>\n",
       "      <td>...</td>\n",
       "    </tr>\n",
       "    <tr>\n",
       "      <th>11028</th>\n",
       "      <td>landslide</td>\n",
       "      <td>medium</td>\n",
       "      <td>27.0</td>\n",
       "      <td>4/1/2017 13:34</td>\n",
       "      <td>rain</td>\n",
       "      <td>natural_slope</td>\n",
       "      <td>NaN</td>\n",
       "      <td>NaN</td>\n",
       "      <td>NaN</td>\n",
       "      <td>111.679944</td>\n",
       "      <td>-7.853409</td>\n",
       "    </tr>\n",
       "    <tr>\n",
       "      <th>11029</th>\n",
       "      <td>landslide</td>\n",
       "      <td>small</td>\n",
       "      <td>2.0</td>\n",
       "      <td>3/25/2017 17:32</td>\n",
       "      <td>other</td>\n",
       "      <td>natural_slope</td>\n",
       "      <td>NaN</td>\n",
       "      <td>NaN</td>\n",
       "      <td>NaN</td>\n",
       "      <td>75.680611</td>\n",
       "      <td>33.403080</td>\n",
       "    </tr>\n",
       "    <tr>\n",
       "      <th>11030</th>\n",
       "      <td>landslide</td>\n",
       "      <td>small</td>\n",
       "      <td>1.0</td>\n",
       "      <td>12/15/2016 5:00</td>\n",
       "      <td>unknown</td>\n",
       "      <td>urban</td>\n",
       "      <td>NaN</td>\n",
       "      <td>NaN</td>\n",
       "      <td>NaN</td>\n",
       "      <td>91.772042</td>\n",
       "      <td>26.181606</td>\n",
       "    </tr>\n",
       "    <tr>\n",
       "      <th>11031</th>\n",
       "      <td>translational_slide</td>\n",
       "      <td>large</td>\n",
       "      <td>24.0</td>\n",
       "      <td>4/29/2017 19:03</td>\n",
       "      <td>downpour</td>\n",
       "      <td>natural_slope</td>\n",
       "      <td>NaN</td>\n",
       "      <td>NaN</td>\n",
       "      <td>NaN</td>\n",
       "      <td>73.472379</td>\n",
       "      <td>40.886395</td>\n",
       "    </tr>\n",
       "    <tr>\n",
       "      <th>11032</th>\n",
       "      <td>mudslide</td>\n",
       "      <td>small</td>\n",
       "      <td>2.0</td>\n",
       "      <td>3/13/2017 14:32</td>\n",
       "      <td>construction</td>\n",
       "      <td>urban</td>\n",
       "      <td>NaN</td>\n",
       "      <td>NaN</td>\n",
       "      <td>NaN</td>\n",
       "      <td>78.356505</td>\n",
       "      <td>17.465630</td>\n",
       "    </tr>\n",
       "  </tbody>\n",
       "</table>\n",
       "<p>11033 rows × 11 columns</p>\n",
       "</div>"
      ],
      "text/plain": [
       "        landslide_category landslide_size  fatality_count        event_date  \\\n",
       "0                landslide          large            11.0     8/1/2008 0:00   \n",
       "1                 mudslide          small             0.0     1/2/2009 2:00   \n",
       "2                landslide          large            10.0    1/19/2007 0:00   \n",
       "3                landslide         medium             1.0    7/31/2009 0:00   \n",
       "4                landslide         medium             0.0  10/16/2010 12:00   \n",
       "...                    ...            ...             ...               ...   \n",
       "11028            landslide         medium            27.0    4/1/2017 13:34   \n",
       "11029            landslide          small             2.0   3/25/2017 17:32   \n",
       "11030            landslide          small             1.0   12/15/2016 5:00   \n",
       "11031  translational_slide          large            24.0   4/29/2017 19:03   \n",
       "11032             mudslide          small             2.0   3/13/2017 14:32   \n",
       "\n",
       "      landslide_trigger landslide_setting   country_name country_code  \\\n",
       "0                  rain              mine          China           CN   \n",
       "1              downpour           unknown  United States           US   \n",
       "2              downpour           unknown           Peru           PE   \n",
       "3               monsoon           unknown          Nepal           NP   \n",
       "4      tropical_cyclone           unknown    Philippines           PH   \n",
       "...                 ...               ...            ...          ...   \n",
       "11028              rain     natural_slope            NaN          NaN   \n",
       "11029             other     natural_slope            NaN          NaN   \n",
       "11030           unknown             urban            NaN          NaN   \n",
       "11031          downpour     natural_slope            NaN          NaN   \n",
       "11032      construction             urban            NaN          NaN   \n",
       "\n",
       "       admin_division_population   longitude   latitude  \n",
       "0                            0.0  107.450000  32.562500  \n",
       "1                        36619.0 -122.663000  45.420000  \n",
       "2                        14708.0  -75.358700 -11.129500  \n",
       "3                        20908.0   81.708000  28.837800  \n",
       "4                       798634.0  123.897800  10.333600  \n",
       "...                          ...         ...        ...  \n",
       "11028                        NaN  111.679944  -7.853409  \n",
       "11029                        NaN   75.680611  33.403080  \n",
       "11030                        NaN   91.772042  26.181606  \n",
       "11031                        NaN   73.472379  40.886395  \n",
       "11032                        NaN   78.356505  17.465630  \n",
       "\n",
       "[11033 rows x 11 columns]"
      ]
     },
     "execution_count": 52,
     "metadata": {},
     "output_type": "execute_result"
    }
   ],
   "source": [
    "df = pd.read_csv('GLC.csv')\n",
    "df"
   ]
  },
  {
   "cell_type": "markdown",
   "id": "e8788a2e-b103-48e4-ae03-00ae7986f39d",
   "metadata": {},
   "source": [
    "One of the first things to consider is how to process NaN values. In categorical data, we replaced these with a new category \"not_provided\", as this seemed most consistent with the values \"unknown\" and \"other\" already being part of the data. We will process NaN in numeric data later."
   ]
  },
  {
   "cell_type": "code",
   "execution_count": 53,
   "id": "e7041456-9198-4cb1-a5f4-5a487b68059e",
   "metadata": {},
   "outputs": [],
   "source": [
    "df['landslide_size'] = df['landslide_size'].fillna('not_provided')\n",
    "df['landslide_category'] = df['landslide_category'].fillna('not_provided')\n",
    "df['landslide_trigger'] = df['landslide_trigger'].fillna('not_provided')\n",
    "df['landslide_setting'] = df['landslide_setting'].fillna('not_provided')"
   ]
  },
  {
   "cell_type": "code",
   "execution_count": 54,
   "id": "e772499f-f8f6-4fb9-a415-aff9b5bffc8a",
   "metadata": {},
   "outputs": [
    {
     "name": "stdout",
     "output_type": "stream",
     "text": [
      "landslide_category\n",
      "landslide              7648\n",
      "mudslide               2100\n",
      "rock_fall               671\n",
      "complex                 232\n",
      "debris_flow             194\n",
      "other                    68\n",
      "unknown                  38\n",
      "riverbank_collapse       37\n",
      "snow_avalanche           15\n",
      "translational_slide       9\n",
      "lahar                     7\n",
      "earth_flow                7\n",
      "creep                     5\n",
      "not_provided              1\n",
      "topple                    1\n",
      "Name: count, dtype: int64\n"
     ]
    }
   ],
   "source": [
    "print(df['landslide_category'].value_counts())"
   ]
  },
  {
   "cell_type": "markdown",
   "id": "88042ed9-239d-49a2-b35b-95b47b5b9d7e",
   "metadata": {},
   "source": [
    "We then also needed to change all our string values to useful numbers. Many of these are not naturally on a scale, but \"landslide_size\" is. Therefore we manually ordered these from small to catastrophic."
   ]
  },
  {
   "cell_type": "code",
   "execution_count": 55,
   "id": "fe4a6cfa-d36d-4c74-9a0f-01e8c33318d5",
   "metadata": {},
   "outputs": [],
   "source": [
    "landslide_size_code_transform = {\n",
    "    'unknown': 0, #Making 'unknown' into 0 because it feels more likely to be small than catastrophic\n",
    "    'not_provided': 6, # there is only one of these, and it ends up being deleted when we remove some rows later on\n",
    "    'small': 1,\n",
    "    'medium': 2, \n",
    "    'large': 3, \n",
    "    'very_large': 4,\n",
    "    'catastrophic': 5\n",
    "}"
   ]
  },
  {
   "cell_type": "markdown",
   "id": "80badf70-cd4d-422a-87d2-608e94498b95",
   "metadata": {},
   "source": [
    "Now we apply the code transformation."
   ]
  },
  {
   "cell_type": "code",
   "execution_count": 56,
   "id": "893a7096-ea88-423a-8e00-62f33db81fc6",
   "metadata": {},
   "outputs": [],
   "source": [
    "#Adds numeric codes for each string feature.\n",
    "df['landslide_category_codes'] = df['landslide_category'].astype('category').cat.codes\n",
    "#df['landslide_size_codes'] = df['landslide_size'].astype('category').cat.codes\n",
    "df['landslide_size_codes'] = [landslide_size_code_transform.get(df['landslide_size'][i]) for i in range(len(df['landslide_size']))]\n",
    "df['landslide_trigger_codes'] = df['landslide_trigger'].astype('category').cat.codes\n",
    "df['landslide_setting_codes'] = df['landslide_setting'].astype('category').cat.codes\n",
    "df['country_code_codes'] = df['country_code'].astype('category').cat.codes"
   ]
  },
  {
   "cell_type": "markdown",
   "id": "536e78cd-fa07-4f15-9012-b70cb91bf637",
   "metadata": {},
   "source": [
    "We probably don't actually need to drop this data, but this sends the strings away."
   ]
  },
  {
   "cell_type": "code",
   "execution_count": 57,
   "id": "9c1b3f5a-4bc8-491f-9c26-3d23a5d25699",
   "metadata": {},
   "outputs": [],
   "source": [
    "del df['landslide_category']\n",
    "del df['landslide_size']\n",
    "del df['landslide_trigger']\n",
    "del df['landslide_setting']\n",
    "del df['country_name']\n",
    "del df['country_code']"
   ]
  },
  {
   "cell_type": "markdown",
   "id": "d8a7bf89-3fcb-4a6a-b887-a09b670eb379",
   "metadata": {},
   "source": [
    "We are now left with the following:"
   ]
  },
  {
   "cell_type": "code",
   "execution_count": 58,
   "id": "0016b54a-9f72-4d35-806f-aac408b57d91",
   "metadata": {},
   "outputs": [
    {
     "name": "stdout",
     "output_type": "stream",
     "text": [
      "NaN count per column:\n",
      "fatality_count               1385\n",
      "event_date                      0\n",
      "admin_division_population    1562\n",
      "longitude                       0\n",
      "latitude                        0\n",
      "landslide_category_codes        0\n",
      "landslide_size_codes            0\n",
      "landslide_trigger_codes         0\n",
      "landslide_setting_codes         0\n",
      "country_code_codes              0\n",
      "dtype: int64\n"
     ]
    }
   ],
   "source": [
    "column_nan_count = df.isnull().sum()\n",
    "print(\"NaN count per column:\")\n",
    "print(column_nan_count)"
   ]
  },
  {
   "cell_type": "markdown",
   "id": "b8d29323-9711-4cc3-b3dd-8438cff2daab",
   "metadata": {},
   "source": [
    "Now we take care of the remaining NaNs by removing the rows containing them."
   ]
  },
  {
   "cell_type": "code",
   "execution_count": 59,
   "id": "0f406017-038e-4826-b408-edeb9d501f2c",
   "metadata": {},
   "outputs": [
    {
     "name": "stdout",
     "output_type": "stream",
     "text": [
      "NaN count per column:\n",
      "fatality_count               0\n",
      "event_date                   0\n",
      "admin_division_population    0\n",
      "longitude                    0\n",
      "latitude                     0\n",
      "landslide_category_codes     0\n",
      "landslide_size_codes         0\n",
      "landslide_trigger_codes      0\n",
      "landslide_setting_codes      0\n",
      "country_code_codes           0\n",
      "dtype: int64\n"
     ]
    }
   ],
   "source": [
    "df = df[df[['fatality_count', 'admin_division_population']].notnull().all(1)]\n",
    "\n",
    "column_nan_count = df.isnull().sum()\n",
    "print(\"NaN count per column:\")\n",
    "print(column_nan_count)"
   ]
  },
  {
   "cell_type": "markdown",
   "id": "a4016084-0d76-44e7-a20c-73b339856654",
   "metadata": {},
   "source": [
    "The data is quite clean, but there is more useful information to extract. What if some landslides are more likely to occur at a specific time of the year? For this we separate out our \"event_date\" column into \"year\", \"day_of_year\", and \"minute_of_day\"."
   ]
  },
  {
   "cell_type": "code",
   "execution_count": 60,
   "id": "27a2b935-d783-40c6-bfd1-a5f4a140aae1",
   "metadata": {},
   "outputs": [
    {
     "name": "stderr",
     "output_type": "stream",
     "text": [
      "/tmp/ipykernel_1096234/3250367037.py:2: SettingWithCopyWarning: \n",
      "A value is trying to be set on a copy of a slice from a DataFrame.\n",
      "Try using .loc[row_indexer,col_indexer] = value instead\n",
      "\n",
      "See the caveats in the documentation: https://pandas.pydata.org/pandas-docs/stable/user_guide/indexing.html#returning-a-view-versus-a-copy\n",
      "  df['datetime'] = pd.to_datetime(df['event_date'], format='%m/%d/%Y %H:%M')\n",
      "/tmp/ipykernel_1096234/3250367037.py:4: SettingWithCopyWarning: \n",
      "A value is trying to be set on a copy of a slice from a DataFrame.\n",
      "Try using .loc[row_indexer,col_indexer] = value instead\n",
      "\n",
      "See the caveats in the documentation: https://pandas.pydata.org/pandas-docs/stable/user_guide/indexing.html#returning-a-view-versus-a-copy\n",
      "  df['year'] = df['datetime'].dt.year\n",
      "/tmp/ipykernel_1096234/3250367037.py:5: SettingWithCopyWarning: \n",
      "A value is trying to be set on a copy of a slice from a DataFrame.\n",
      "Try using .loc[row_indexer,col_indexer] = value instead\n",
      "\n",
      "See the caveats in the documentation: https://pandas.pydata.org/pandas-docs/stable/user_guide/indexing.html#returning-a-view-versus-a-copy\n",
      "  df['day_of_year'] = df['datetime'].dt.dayofyear\n",
      "/tmp/ipykernel_1096234/3250367037.py:6: SettingWithCopyWarning: \n",
      "A value is trying to be set on a copy of a slice from a DataFrame.\n",
      "Try using .loc[row_indexer,col_indexer] = value instead\n",
      "\n",
      "See the caveats in the documentation: https://pandas.pydata.org/pandas-docs/stable/user_guide/indexing.html#returning-a-view-versus-a-copy\n",
      "  df['minute_of_day'] = df['datetime'].dt.hour * 60 + df['datetime'].dt.minute\n"
     ]
    }
   ],
   "source": [
    "#separating out the dates and times\n",
    "df['datetime'] = pd.to_datetime(df['event_date'], format='%m/%d/%Y %H:%M')\n",
    "\n",
    "df['year'] = df['datetime'].dt.year\n",
    "df['day_of_year'] = df['datetime'].dt.dayofyear\n",
    "df['minute_of_day'] = df['datetime'].dt.hour * 60 + df['datetime'].dt.minute\n",
    "#df['unix_timestamp'] = df['datetime'].astype('int64') // 10**9  # Convert to seconds\n",
    "\n",
    "del df['datetime']\n",
    "del df['event_date']\n",
    "#del df['unix_timestamp']"
   ]
  },
  {
   "cell_type": "markdown",
   "id": "ad4b7955-bfc2-478a-9bac-d1e4152d2304",
   "metadata": {},
   "source": [
    "As seen below, the above warning about us potensially only modifying a copy of df is nothing to worry about."
   ]
  },
  {
   "cell_type": "code",
   "execution_count": 61,
   "id": "1bc26bee-2a7a-4d46-ada7-7abb09e399ba",
   "metadata": {},
   "outputs": [
    {
     "data": {
      "text/html": [
       "<div>\n",
       "<style scoped>\n",
       "    .dataframe tbody tr th:only-of-type {\n",
       "        vertical-align: middle;\n",
       "    }\n",
       "\n",
       "    .dataframe tbody tr th {\n",
       "        vertical-align: top;\n",
       "    }\n",
       "\n",
       "    .dataframe thead th {\n",
       "        text-align: right;\n",
       "    }\n",
       "</style>\n",
       "<table border=\"1\" class=\"dataframe\">\n",
       "  <thead>\n",
       "    <tr style=\"text-align: right;\">\n",
       "      <th></th>\n",
       "      <th>fatality_count</th>\n",
       "      <th>admin_division_population</th>\n",
       "      <th>longitude</th>\n",
       "      <th>latitude</th>\n",
       "      <th>landslide_category_codes</th>\n",
       "      <th>landslide_size_codes</th>\n",
       "      <th>landslide_trigger_codes</th>\n",
       "      <th>landslide_setting_codes</th>\n",
       "      <th>country_code_codes</th>\n",
       "      <th>year</th>\n",
       "      <th>day_of_year</th>\n",
       "      <th>minute_of_day</th>\n",
       "    </tr>\n",
       "  </thead>\n",
       "  <tbody>\n",
       "    <tr>\n",
       "      <th>0</th>\n",
       "      <td>11.0</td>\n",
       "      <td>0.0</td>\n",
       "      <td>107.4500</td>\n",
       "      <td>32.5625</td>\n",
       "      <td>5</td>\n",
       "      <td>3</td>\n",
       "      <td>13</td>\n",
       "      <td>8</td>\n",
       "      <td>29</td>\n",
       "      <td>2008</td>\n",
       "      <td>214</td>\n",
       "      <td>0</td>\n",
       "    </tr>\n",
       "    <tr>\n",
       "      <th>1</th>\n",
       "      <td>0.0</td>\n",
       "      <td>36619.0</td>\n",
       "      <td>-122.6630</td>\n",
       "      <td>45.4200</td>\n",
       "      <td>6</td>\n",
       "      <td>1</td>\n",
       "      <td>3</td>\n",
       "      <td>13</td>\n",
       "      <td>129</td>\n",
       "      <td>2009</td>\n",
       "      <td>2</td>\n",
       "      <td>120</td>\n",
       "    </tr>\n",
       "    <tr>\n",
       "      <th>2</th>\n",
       "      <td>10.0</td>\n",
       "      <td>14708.0</td>\n",
       "      <td>-75.3587</td>\n",
       "      <td>-11.1295</td>\n",
       "      <td>5</td>\n",
       "      <td>3</td>\n",
       "      <td>3</td>\n",
       "      <td>13</td>\n",
       "      <td>99</td>\n",
       "      <td>2007</td>\n",
       "      <td>19</td>\n",
       "      <td>0</td>\n",
       "    </tr>\n",
       "    <tr>\n",
       "      <th>3</th>\n",
       "      <td>1.0</td>\n",
       "      <td>20908.0</td>\n",
       "      <td>81.7080</td>\n",
       "      <td>28.8378</td>\n",
       "      <td>5</td>\n",
       "      <td>2</td>\n",
       "      <td>9</td>\n",
       "      <td>13</td>\n",
       "      <td>95</td>\n",
       "      <td>2009</td>\n",
       "      <td>212</td>\n",
       "      <td>0</td>\n",
       "    </tr>\n",
       "    <tr>\n",
       "      <th>4</th>\n",
       "      <td>0.0</td>\n",
       "      <td>798634.0</td>\n",
       "      <td>123.8978</td>\n",
       "      <td>10.3336</td>\n",
       "      <td>5</td>\n",
       "      <td>2</td>\n",
       "      <td>15</td>\n",
       "      <td>13</td>\n",
       "      <td>101</td>\n",
       "      <td>2010</td>\n",
       "      <td>289</td>\n",
       "      <td>720</td>\n",
       "    </tr>\n",
       "    <tr>\n",
       "      <th>...</th>\n",
       "      <td>...</td>\n",
       "      <td>...</td>\n",
       "      <td>...</td>\n",
       "      <td>...</td>\n",
       "      <td>...</td>\n",
       "      <td>...</td>\n",
       "      <td>...</td>\n",
       "      <td>...</td>\n",
       "      <td>...</td>\n",
       "      <td>...</td>\n",
       "      <td>...</td>\n",
       "      <td>...</td>\n",
       "    </tr>\n",
       "    <tr>\n",
       "      <th>9889</th>\n",
       "      <td>0.0</td>\n",
       "      <td>31089.0</td>\n",
       "      <td>124.7333</td>\n",
       "      <td>6.3666</td>\n",
       "      <td>5</td>\n",
       "      <td>2</td>\n",
       "      <td>3</td>\n",
       "      <td>13</td>\n",
       "      <td>101</td>\n",
       "      <td>2011</td>\n",
       "      <td>18</td>\n",
       "      <td>0</td>\n",
       "    </tr>\n",
       "    <tr>\n",
       "      <th>9918</th>\n",
       "      <td>0.0</td>\n",
       "      <td>2689.0</td>\n",
       "      <td>125.4782</td>\n",
       "      <td>7.1426</td>\n",
       "      <td>5</td>\n",
       "      <td>2</td>\n",
       "      <td>3</td>\n",
       "      <td>13</td>\n",
       "      <td>101</td>\n",
       "      <td>2009</td>\n",
       "      <td>15</td>\n",
       "      <td>0</td>\n",
       "    </tr>\n",
       "    <tr>\n",
       "      <th>9939</th>\n",
       "      <td>0.0</td>\n",
       "      <td>16671.0</td>\n",
       "      <td>125.9667</td>\n",
       "      <td>7.6000</td>\n",
       "      <td>5</td>\n",
       "      <td>2</td>\n",
       "      <td>15</td>\n",
       "      <td>13</td>\n",
       "      <td>101</td>\n",
       "      <td>2014</td>\n",
       "      <td>12</td>\n",
       "      <td>0</td>\n",
       "    </tr>\n",
       "    <tr>\n",
       "      <th>10005</th>\n",
       "      <td>0.0</td>\n",
       "      <td>4534.0</td>\n",
       "      <td>-122.9542</td>\n",
       "      <td>38.4738</td>\n",
       "      <td>5</td>\n",
       "      <td>1</td>\n",
       "      <td>3</td>\n",
       "      <td>13</td>\n",
       "      <td>129</td>\n",
       "      <td>2011</td>\n",
       "      <td>48</td>\n",
       "      <td>540</td>\n",
       "    </tr>\n",
       "    <tr>\n",
       "      <th>10019</th>\n",
       "      <td>0.0</td>\n",
       "      <td>4534.0</td>\n",
       "      <td>-122.9955</td>\n",
       "      <td>38.5037</td>\n",
       "      <td>5</td>\n",
       "      <td>2</td>\n",
       "      <td>3</td>\n",
       "      <td>13</td>\n",
       "      <td>129</td>\n",
       "      <td>2011</td>\n",
       "      <td>84</td>\n",
       "      <td>0</td>\n",
       "    </tr>\n",
       "  </tbody>\n",
       "</table>\n",
       "<p>8132 rows × 12 columns</p>\n",
       "</div>"
      ],
      "text/plain": [
       "       fatality_count  admin_division_population  longitude  latitude  \\\n",
       "0                11.0                        0.0   107.4500   32.5625   \n",
       "1                 0.0                    36619.0  -122.6630   45.4200   \n",
       "2                10.0                    14708.0   -75.3587  -11.1295   \n",
       "3                 1.0                    20908.0    81.7080   28.8378   \n",
       "4                 0.0                   798634.0   123.8978   10.3336   \n",
       "...               ...                        ...        ...       ...   \n",
       "9889              0.0                    31089.0   124.7333    6.3666   \n",
       "9918              0.0                     2689.0   125.4782    7.1426   \n",
       "9939              0.0                    16671.0   125.9667    7.6000   \n",
       "10005             0.0                     4534.0  -122.9542   38.4738   \n",
       "10019             0.0                     4534.0  -122.9955   38.5037   \n",
       "\n",
       "       landslide_category_codes  landslide_size_codes  \\\n",
       "0                             5                     3   \n",
       "1                             6                     1   \n",
       "2                             5                     3   \n",
       "3                             5                     2   \n",
       "4                             5                     2   \n",
       "...                         ...                   ...   \n",
       "9889                          5                     2   \n",
       "9918                          5                     2   \n",
       "9939                          5                     2   \n",
       "10005                         5                     1   \n",
       "10019                         5                     2   \n",
       "\n",
       "       landslide_trigger_codes  landslide_setting_codes  country_code_codes  \\\n",
       "0                           13                        8                  29   \n",
       "1                            3                       13                 129   \n",
       "2                            3                       13                  99   \n",
       "3                            9                       13                  95   \n",
       "4                           15                       13                 101   \n",
       "...                        ...                      ...                 ...   \n",
       "9889                         3                       13                 101   \n",
       "9918                         3                       13                 101   \n",
       "9939                        15                       13                 101   \n",
       "10005                        3                       13                 129   \n",
       "10019                        3                       13                 129   \n",
       "\n",
       "       year  day_of_year  minute_of_day  \n",
       "0      2008          214              0  \n",
       "1      2009            2            120  \n",
       "2      2007           19              0  \n",
       "3      2009          212              0  \n",
       "4      2010          289            720  \n",
       "...     ...          ...            ...  \n",
       "9889   2011           18              0  \n",
       "9918   2009           15              0  \n",
       "9939   2014           12              0  \n",
       "10005  2011           48            540  \n",
       "10019  2011           84              0  \n",
       "\n",
       "[8132 rows x 12 columns]"
      ]
     },
     "execution_count": 61,
     "metadata": {},
     "output_type": "execute_result"
    }
   ],
   "source": [
    "df"
   ]
  },
  {
   "cell_type": "markdown",
   "id": "359778a1-837b-43b1-9531-64ef8ef51b0b",
   "metadata": {},
   "source": [
    "# Predicting Fatality Count"
   ]
  },
  {
   "cell_type": "markdown",
   "id": "b38d6ca4-c64e-4f6f-a5c5-a99449732355",
   "metadata": {},
   "source": [
    "We will now attempt to predict fatality count based on the other variables known about the landslides. This seems like a feature that it would be useful for us to be able to estimate."
   ]
  },
  {
   "cell_type": "code",
   "execution_count": 62,
   "id": "1150a308-a239-4822-bbfa-2d31366caf8e",
   "metadata": {},
   "outputs": [],
   "source": [
    "X = df.drop(columns='fatality_count')\n",
    "y = df['fatality_count']"
   ]
  },
  {
   "cell_type": "markdown",
   "id": "d0ebe725-75f0-40bb-891d-fab8e9dbf674",
   "metadata": {},
   "source": [
    "## Linear Regression"
   ]
  },
  {
   "cell_type": "code",
   "execution_count": 63,
   "id": "e897496b-7787-4e3d-8e74-7e9d379b34cf",
   "metadata": {},
   "outputs": [],
   "source": [
    "from sklearn.linear_model import LinearRegression\n",
    "lr = LinearRegression()\n",
    "\n",
    "def lr_run(X, y):\n",
    "    \n",
    "    X_train, X_test, y_train, y_test = train_test_split(X, y)\n",
    "\n",
    "    lr.fit(X_train, y_train)\n",
    "    training_score = lr.score(X_train, y_train)\n",
    "    test_score = lr.score(X_test, y_test)\n",
    "\n",
    "    return (training_score, test_score)"
   ]
  },
  {
   "cell_type": "code",
   "execution_count": 64,
   "id": "67105568-659f-4568-9f6a-5142de21d7ee",
   "metadata": {},
   "outputs": [
    {
     "name": "stdout",
     "output_type": "stream",
     "text": [
      "Training set score: 0.02\n",
      "Test set score: 0.01\n"
     ]
    }
   ],
   "source": [
    "print_results(lr_run(X, y))"
   ]
  },
  {
   "cell_type": "markdown",
   "id": "3827f339-74e0-466d-ab69-9b8f8ee56b4f",
   "metadata": {},
   "source": [
    "These scores are quite aweful. Maybe a Ridge regularization would help..."
   ]
  },
  {
   "cell_type": "code",
   "execution_count": 65,
   "id": "7aaa96a6-8a82-4977-a137-a594db6d6630",
   "metadata": {},
   "outputs": [],
   "source": [
    "from sklearn.linear_model import Ridge\n",
    "lrr = Ridge()\n",
    "\n",
    "def lrr_run(X, y, a=1.0):\n",
    "    \n",
    "    X_train, X_test, y_train, y_test = train_test_split(X, y)\n",
    "\n",
    "    lrr.fit(X_train, y_train)\n",
    "    training_score = lrr.score(X_train, y_train)\n",
    "    test_score = lrr.score(X_test, y_test)\n",
    "\n",
    "    return (training_score, test_score)\n"
   ]
  },
  {
   "cell_type": "code",
   "execution_count": 66,
   "id": "08243294-08b3-4ccc-b2e2-01e1d4ae63df",
   "metadata": {},
   "outputs": [
    {
     "name": "stdout",
     "output_type": "stream",
     "text": [
      "Training set score: 0.02\n",
      "Test set score: -1.35\n",
      "Training set score: 0.02\n",
      "Test set score: -0.22\n",
      "Training set score: 0.06\n",
      "Test set score: 0.01\n",
      "Training set score: 0.01\n",
      "Test set score: 0.01\n"
     ]
    }
   ],
   "source": [
    "print_results(lrr_run(X, y))\n",
    "print_results(lrr_run(X, y, 2))\n",
    "print_results(lrr_run(X, y, 10))\n",
    "print_results(lrr_run(X, y, 100))"
   ]
  },
  {
   "cell_type": "markdown",
   "id": "0b2c08bc-45cd-4eac-a35f-409ec0628b74",
   "metadata": {},
   "source": [
    "Doesn't seem like it. What about using a KNN regressor?"
   ]
  },
  {
   "cell_type": "code",
   "execution_count": 67,
   "id": "ffdbd349-30c4-41fe-a4c6-0e52bc5cd630",
   "metadata": {},
   "outputs": [],
   "source": [
    "from sklearn.neighbors import KNeighborsRegressor\n",
    "\n",
    "def knnR_run(X, y, n=3.0):\n",
    "\n",
    "    X_train, X_test, y_train, y_test = train_test_split(X, y)\n",
    "    knnR = KNeighborsRegressor(n_neighbors=n)\n",
    "\n",
    "    knnR.fit(X_train, y_train)\n",
    "    training_score = knnR.score(X_train, y_train)\n",
    "    test_score = knnR.score(X_test, y_test)\n",
    "\n",
    "    return (training_score, test_score)\n"
   ]
  },
  {
   "cell_type": "code",
   "execution_count": 68,
   "id": "0ada7c8a-95b4-4e4a-93f0-c1564216d1b7",
   "metadata": {},
   "outputs": [
    {
     "name": "stdout",
     "output_type": "stream",
     "text": [
      "Training set score: 1.00\n",
      "Test set score: -6.94\n",
      "Training set score: 0.53\n",
      "Test set score: -13.80\n",
      "Training set score: 0.33\n",
      "Test set score: -0.24\n",
      "Training set score: 0.30\n",
      "Test set score: -0.35\n"
     ]
    }
   ],
   "source": [
    "print_results(knnR_run(X, y, 1))\n",
    "print_results(knnR_run(X, y, 2))\n",
    "print_results(knnR_run(X, y, 3))\n",
    "print_results(knnR_run(X, y, 5))"
   ]
  },
  {
   "cell_type": "markdown",
   "id": "d5a56dc1-93d8-4866-8e36-b884618e84d1",
   "metadata": {},
   "source": [
    "Clearly this is not going all that well. One more attempt. Surely a Neural Net will do better:"
   ]
  },
  {
   "cell_type": "code",
   "execution_count": 69,
   "id": "3b269b51-d81a-4415-8441-a8d5d2e77256",
   "metadata": {},
   "outputs": [
    {
     "name": "stderr",
     "output_type": "stream",
     "text": [
      "/penv/lib64/python3.9/site-packages/sklearn/neural_network/_multilayer_perceptron.py:545: ConvergenceWarning: lbfgs failed to converge (status=1):\n",
      "STOP: TOTAL NO. of ITERATIONS REACHED LIMIT.\n",
      "\n",
      "Increase the number of iterations (max_iter) or scale the data as shown in:\n",
      "    https://scikit-learn.org/stable/modules/preprocessing.html\n",
      "  self.n_iter_ = _check_optimize_result(\"lbfgs\", opt_res, self.max_iter)\n"
     ]
    },
    {
     "name": "stdout",
     "output_type": "stream",
     "text": [
      "Solver: lbfgs, Hidden Layers: [20], Activation: logistic, Alpha: 0.0001\n",
      "Training set score: 0.73\n",
      "Test set score: 0.73\n"
     ]
    },
    {
     "name": "stderr",
     "output_type": "stream",
     "text": [
      "/penv/lib64/python3.9/site-packages/sklearn/neural_network/_multilayer_perceptron.py:545: ConvergenceWarning: lbfgs failed to converge (status=1):\n",
      "STOP: TOTAL NO. of ITERATIONS REACHED LIMIT.\n",
      "\n",
      "Increase the number of iterations (max_iter) or scale the data as shown in:\n",
      "    https://scikit-learn.org/stable/modules/preprocessing.html\n",
      "  self.n_iter_ = _check_optimize_result(\"lbfgs\", opt_res, self.max_iter)\n"
     ]
    },
    {
     "name": "stdout",
     "output_type": "stream",
     "text": [
      "Solver: lbfgs, Hidden Layers: [20], Activation: logistic, Alpha: 0.001\n",
      "Training set score: 0.73\n",
      "Test set score: 0.73\n"
     ]
    },
    {
     "name": "stderr",
     "output_type": "stream",
     "text": [
      "/penv/lib64/python3.9/site-packages/sklearn/neural_network/_multilayer_perceptron.py:545: ConvergenceWarning: lbfgs failed to converge (status=2):\n",
      "ABNORMAL_TERMINATION_IN_LNSRCH.\n",
      "\n",
      "Increase the number of iterations (max_iter) or scale the data as shown in:\n",
      "    https://scikit-learn.org/stable/modules/preprocessing.html\n",
      "  self.n_iter_ = _check_optimize_result(\"lbfgs\", opt_res, self.max_iter)\n"
     ]
    },
    {
     "name": "stdout",
     "output_type": "stream",
     "text": [
      "Solver: lbfgs, Hidden Layers: [20], Activation: relu, Alpha: 0.0001\n",
      "Training set score: 0.00\n",
      "Test set score: 0.00\n"
     ]
    },
    {
     "name": "stderr",
     "output_type": "stream",
     "text": [
      "/penv/lib64/python3.9/site-packages/sklearn/neural_network/_multilayer_perceptron.py:545: ConvergenceWarning: lbfgs failed to converge (status=2):\n",
      "ABNORMAL_TERMINATION_IN_LNSRCH.\n",
      "\n",
      "Increase the number of iterations (max_iter) or scale the data as shown in:\n",
      "    https://scikit-learn.org/stable/modules/preprocessing.html\n",
      "  self.n_iter_ = _check_optimize_result(\"lbfgs\", opt_res, self.max_iter)\n"
     ]
    },
    {
     "name": "stdout",
     "output_type": "stream",
     "text": [
      "Solver: lbfgs, Hidden Layers: [20], Activation: relu, Alpha: 0.001\n",
      "Training set score: 0.00\n",
      "Test set score: 0.00\n"
     ]
    },
    {
     "name": "stderr",
     "output_type": "stream",
     "text": [
      "/penv/lib64/python3.9/site-packages/sklearn/neural_network/_multilayer_perceptron.py:545: ConvergenceWarning: lbfgs failed to converge (status=1):\n",
      "STOP: TOTAL NO. of ITERATIONS REACHED LIMIT.\n",
      "\n",
      "Increase the number of iterations (max_iter) or scale the data as shown in:\n",
      "    https://scikit-learn.org/stable/modules/preprocessing.html\n",
      "  self.n_iter_ = _check_optimize_result(\"lbfgs\", opt_res, self.max_iter)\n"
     ]
    },
    {
     "name": "stdout",
     "output_type": "stream",
     "text": [
      "Solver: lbfgs, Hidden Layers: [100], Activation: logistic, Alpha: 0.0001\n",
      "Training set score: 0.73\n",
      "Test set score: 0.73\n"
     ]
    },
    {
     "name": "stderr",
     "output_type": "stream",
     "text": [
      "/penv/lib64/python3.9/site-packages/sklearn/neural_network/_multilayer_perceptron.py:545: ConvergenceWarning: lbfgs failed to converge (status=1):\n",
      "STOP: TOTAL NO. of ITERATIONS REACHED LIMIT.\n",
      "\n",
      "Increase the number of iterations (max_iter) or scale the data as shown in:\n",
      "    https://scikit-learn.org/stable/modules/preprocessing.html\n",
      "  self.n_iter_ = _check_optimize_result(\"lbfgs\", opt_res, self.max_iter)\n"
     ]
    },
    {
     "name": "stdout",
     "output_type": "stream",
     "text": [
      "Solver: lbfgs, Hidden Layers: [100], Activation: logistic, Alpha: 0.001\n",
      "Training set score: 0.73\n",
      "Test set score: 0.73\n"
     ]
    },
    {
     "name": "stderr",
     "output_type": "stream",
     "text": [
      "/penv/lib64/python3.9/site-packages/sklearn/neural_network/_multilayer_perceptron.py:545: ConvergenceWarning: lbfgs failed to converge (status=2):\n",
      "ABNORMAL_TERMINATION_IN_LNSRCH.\n",
      "\n",
      "Increase the number of iterations (max_iter) or scale the data as shown in:\n",
      "    https://scikit-learn.org/stable/modules/preprocessing.html\n",
      "  self.n_iter_ = _check_optimize_result(\"lbfgs\", opt_res, self.max_iter)\n"
     ]
    },
    {
     "name": "stdout",
     "output_type": "stream",
     "text": [
      "Solver: lbfgs, Hidden Layers: [100], Activation: relu, Alpha: 0.0001\n",
      "Training set score: 0.00\n",
      "Test set score: 0.00\n"
     ]
    },
    {
     "name": "stderr",
     "output_type": "stream",
     "text": [
      "/penv/lib64/python3.9/site-packages/sklearn/neural_network/_multilayer_perceptron.py:545: ConvergenceWarning: lbfgs failed to converge (status=2):\n",
      "ABNORMAL_TERMINATION_IN_LNSRCH.\n",
      "\n",
      "Increase the number of iterations (max_iter) or scale the data as shown in:\n",
      "    https://scikit-learn.org/stable/modules/preprocessing.html\n",
      "  self.n_iter_ = _check_optimize_result(\"lbfgs\", opt_res, self.max_iter)\n"
     ]
    },
    {
     "name": "stdout",
     "output_type": "stream",
     "text": [
      "Solver: lbfgs, Hidden Layers: [100], Activation: relu, Alpha: 0.001\n",
      "Training set score: 0.00\n",
      "Test set score: 0.00\n"
     ]
    },
    {
     "name": "stderr",
     "output_type": "stream",
     "text": [
      "/penv/lib64/python3.9/site-packages/sklearn/neural_network/_multilayer_perceptron.py:545: ConvergenceWarning: lbfgs failed to converge (status=1):\n",
      "STOP: TOTAL NO. of ITERATIONS REACHED LIMIT.\n",
      "\n",
      "Increase the number of iterations (max_iter) or scale the data as shown in:\n",
      "    https://scikit-learn.org/stable/modules/preprocessing.html\n",
      "  self.n_iter_ = _check_optimize_result(\"lbfgs\", opt_res, self.max_iter)\n"
     ]
    },
    {
     "name": "stdout",
     "output_type": "stream",
     "text": [
      "Solver: lbfgs, Hidden Layers: [10, 10], Activation: logistic, Alpha: 0.0001\n",
      "Training set score: 0.73\n",
      "Test set score: 0.73\n"
     ]
    },
    {
     "name": "stderr",
     "output_type": "stream",
     "text": [
      "/penv/lib64/python3.9/site-packages/sklearn/neural_network/_multilayer_perceptron.py:545: ConvergenceWarning: lbfgs failed to converge (status=1):\n",
      "STOP: TOTAL NO. of ITERATIONS REACHED LIMIT.\n",
      "\n",
      "Increase the number of iterations (max_iter) or scale the data as shown in:\n",
      "    https://scikit-learn.org/stable/modules/preprocessing.html\n",
      "  self.n_iter_ = _check_optimize_result(\"lbfgs\", opt_res, self.max_iter)\n"
     ]
    },
    {
     "name": "stdout",
     "output_type": "stream",
     "text": [
      "Solver: lbfgs, Hidden Layers: [10, 10], Activation: logistic, Alpha: 0.001\n",
      "Training set score: 0.73\n",
      "Test set score: 0.73\n"
     ]
    },
    {
     "name": "stderr",
     "output_type": "stream",
     "text": [
      "/penv/lib64/python3.9/site-packages/sklearn/neural_network/_multilayer_perceptron.py:545: ConvergenceWarning: lbfgs failed to converge (status=2):\n",
      "ABNORMAL_TERMINATION_IN_LNSRCH.\n",
      "\n",
      "Increase the number of iterations (max_iter) or scale the data as shown in:\n",
      "    https://scikit-learn.org/stable/modules/preprocessing.html\n",
      "  self.n_iter_ = _check_optimize_result(\"lbfgs\", opt_res, self.max_iter)\n"
     ]
    },
    {
     "name": "stdout",
     "output_type": "stream",
     "text": [
      "Solver: lbfgs, Hidden Layers: [10, 10], Activation: relu, Alpha: 0.0001\n",
      "Training set score: 0.00\n",
      "Test set score: 0.00\n"
     ]
    },
    {
     "name": "stderr",
     "output_type": "stream",
     "text": [
      "/penv/lib64/python3.9/site-packages/sklearn/neural_network/_multilayer_perceptron.py:545: ConvergenceWarning: lbfgs failed to converge (status=2):\n",
      "ABNORMAL_TERMINATION_IN_LNSRCH.\n",
      "\n",
      "Increase the number of iterations (max_iter) or scale the data as shown in:\n",
      "    https://scikit-learn.org/stable/modules/preprocessing.html\n",
      "  self.n_iter_ = _check_optimize_result(\"lbfgs\", opt_res, self.max_iter)\n"
     ]
    },
    {
     "name": "stdout",
     "output_type": "stream",
     "text": [
      "Solver: lbfgs, Hidden Layers: [10, 10], Activation: relu, Alpha: 0.001\n",
      "Training set score: 0.00\n",
      "Test set score: 0.00\n"
     ]
    },
    {
     "name": "stderr",
     "output_type": "stream",
     "text": [
      "/penv/lib64/python3.9/site-packages/sklearn/neural_network/_multilayer_perceptron.py:545: ConvergenceWarning: lbfgs failed to converge (status=1):\n",
      "STOP: TOTAL NO. of ITERATIONS REACHED LIMIT.\n",
      "\n",
      "Increase the number of iterations (max_iter) or scale the data as shown in:\n",
      "    https://scikit-learn.org/stable/modules/preprocessing.html\n",
      "  self.n_iter_ = _check_optimize_result(\"lbfgs\", opt_res, self.max_iter)\n"
     ]
    },
    {
     "name": "stdout",
     "output_type": "stream",
     "text": [
      "Solver: lbfgs, Hidden Layers: [20, 100, 10, 10], Activation: logistic, Alpha: 0.0001\n",
      "Training set score: 0.73\n",
      "Test set score: 0.73\n"
     ]
    },
    {
     "name": "stderr",
     "output_type": "stream",
     "text": [
      "/penv/lib64/python3.9/site-packages/sklearn/neural_network/_multilayer_perceptron.py:545: ConvergenceWarning: lbfgs failed to converge (status=1):\n",
      "STOP: TOTAL NO. of ITERATIONS REACHED LIMIT.\n",
      "\n",
      "Increase the number of iterations (max_iter) or scale the data as shown in:\n",
      "    https://scikit-learn.org/stable/modules/preprocessing.html\n",
      "  self.n_iter_ = _check_optimize_result(\"lbfgs\", opt_res, self.max_iter)\n"
     ]
    },
    {
     "name": "stdout",
     "output_type": "stream",
     "text": [
      "Solver: lbfgs, Hidden Layers: [20, 100, 10, 10], Activation: logistic, Alpha: 0.001\n",
      "Training set score: 0.73\n",
      "Test set score: 0.73\n"
     ]
    },
    {
     "name": "stderr",
     "output_type": "stream",
     "text": [
      "/penv/lib64/python3.9/site-packages/sklearn/neural_network/_multilayer_perceptron.py:545: ConvergenceWarning: lbfgs failed to converge (status=2):\n",
      "ABNORMAL_TERMINATION_IN_LNSRCH.\n",
      "\n",
      "Increase the number of iterations (max_iter) or scale the data as shown in:\n",
      "    https://scikit-learn.org/stable/modules/preprocessing.html\n",
      "  self.n_iter_ = _check_optimize_result(\"lbfgs\", opt_res, self.max_iter)\n"
     ]
    },
    {
     "name": "stdout",
     "output_type": "stream",
     "text": [
      "Solver: lbfgs, Hidden Layers: [20, 100, 10, 10], Activation: relu, Alpha: 0.0001\n",
      "Training set score: 0.00\n",
      "Test set score: 0.00\n"
     ]
    },
    {
     "name": "stderr",
     "output_type": "stream",
     "text": [
      "/penv/lib64/python3.9/site-packages/sklearn/neural_network/_multilayer_perceptron.py:545: ConvergenceWarning: lbfgs failed to converge (status=2):\n",
      "ABNORMAL_TERMINATION_IN_LNSRCH.\n",
      "\n",
      "Increase the number of iterations (max_iter) or scale the data as shown in:\n",
      "    https://scikit-learn.org/stable/modules/preprocessing.html\n",
      "  self.n_iter_ = _check_optimize_result(\"lbfgs\", opt_res, self.max_iter)\n"
     ]
    },
    {
     "name": "stdout",
     "output_type": "stream",
     "text": [
      "Solver: lbfgs, Hidden Layers: [20, 100, 10, 10], Activation: relu, Alpha: 0.001\n",
      "Training set score: 0.00\n",
      "Test set score: 0.00\n",
      "Solver: adam, Hidden Layers: [20], Activation: logistic, Learning Rate: 0.001\n",
      "Training set score: 0.73\n",
      "Test set score: 0.73\n",
      "Solver: adam, Hidden Layers: [20], Activation: logistic, Learning Rate: 0.01\n",
      "Training set score: 0.73\n",
      "Test set score: 0.73\n",
      "Solver: adam, Hidden Layers: [20], Activation: relu, Learning Rate: 0.001\n",
      "Training set score: 0.48\n",
      "Test set score: 0.47\n",
      "Solver: adam, Hidden Layers: [20], Activation: relu, Learning Rate: 0.01\n",
      "Training set score: 0.73\n",
      "Test set score: 0.73\n",
      "Solver: adam, Hidden Layers: [100], Activation: logistic, Learning Rate: 0.001\n",
      "Training set score: 0.73\n",
      "Test set score: 0.73\n",
      "Solver: adam, Hidden Layers: [100], Activation: logistic, Learning Rate: 0.01\n",
      "Training set score: 0.73\n",
      "Test set score: 0.73\n",
      "Solver: adam, Hidden Layers: [100], Activation: relu, Learning Rate: 0.001\n",
      "Training set score: 0.32\n",
      "Test set score: 0.32\n",
      "Solver: adam, Hidden Layers: [100], Activation: relu, Learning Rate: 0.01\n",
      "Training set score: 0.73\n",
      "Test set score: 0.73\n",
      "Solver: adam, Hidden Layers: [10, 10], Activation: logistic, Learning Rate: 0.001\n",
      "Training set score: 0.73\n",
      "Test set score: 0.73\n",
      "Solver: adam, Hidden Layers: [10, 10], Activation: logistic, Learning Rate: 0.01\n",
      "Training set score: 0.73\n",
      "Test set score: 0.73\n",
      "Solver: adam, Hidden Layers: [10, 10], Activation: relu, Learning Rate: 0.001\n",
      "Training set score: 0.73\n",
      "Test set score: 0.73\n",
      "Solver: adam, Hidden Layers: [10, 10], Activation: relu, Learning Rate: 0.01\n",
      "Training set score: 0.73\n",
      "Test set score: 0.73\n",
      "Solver: adam, Hidden Layers: [20, 100, 10, 10], Activation: logistic, Learning Rate: 0.001\n",
      "Training set score: 0.73\n",
      "Test set score: 0.73\n",
      "Solver: adam, Hidden Layers: [20, 100, 10, 10], Activation: logistic, Learning Rate: 0.01\n",
      "Training set score: 0.73\n",
      "Test set score: 0.73\n",
      "Solver: adam, Hidden Layers: [20, 100, 10, 10], Activation: relu, Learning Rate: 0.001\n",
      "Training set score: 0.73\n",
      "Test set score: 0.73\n",
      "Solver: adam, Hidden Layers: [20, 100, 10, 10], Activation: relu, Learning Rate: 0.01\n",
      "Training set score: 0.73\n",
      "Test set score: 0.73\n"
     ]
    }
   ],
   "source": [
    "from sklearn.neural_network import MLPClassifier\n",
    "\n",
    "X_train, X_test, y_train, y_test = train_test_split(X, y)\n",
    "\n",
    "solvers = ['lbfgs', 'adam']\n",
    "hidden_layer_sizes_options = [[20], [100], [10, 10], [20, 100, 10, 10]]\n",
    "activations = ['logistic', 'relu']\n",
    "learning_rates = [0.001, 0.01]\n",
    "alphas = [0.0001, 0.001]\n",
    "\n",
    "for solver in solvers:\n",
    "    for hidden_layers in hidden_layer_sizes_options:\n",
    "        for activation in activations:\n",
    "            params = {'solver': solver, 'hidden_layer_sizes': hidden_layers, 'activation': activation, 'random_state': 0}\n",
    "\n",
    "            if solver == 'adam':\n",
    "                for lr in learning_rates:\n",
    "                    params['learning_rate_init'] = lr\n",
    "                    mlp = MLPClassifier(**params).fit(X_train, y_train)\n",
    "                    training_score = mlp.score(X_train, y_train)\n",
    "                    test_score = mlp.score(X_test, y_test)\n",
    "                    print(f\"Solver: {solver}, Hidden Layers: {hidden_layers}, Activation: {activation}, Learning Rate: {lr}\")\n",
    "                    print_results([training_score, test_score])\n",
    "            else:  # 'lbfgs' solver\n",
    "                for alpha in alphas:\n",
    "                    params['alpha'] = alpha\n",
    "                    mlp = MLPClassifier(**params).fit(X_train, y_train)\n",
    "                    training_score = mlp.score(X_train, y_train)\n",
    "                    test_score = mlp.score(X_test, y_test)\n",
    "                    print(f\"Solver: {solver}, Hidden Layers: {hidden_layers}, Activation: {activation}, Alpha: {alpha}\")\n",
    "                    print_results([training_score, test_score])\n",
    "                    "
   ]
  },
  {
   "cell_type": "markdown",
   "id": "8b56b7fc-b71a-4a4f-881c-ff92b7d9fade",
   "metadata": {},
   "source": [
    "Not amazing, but comparatively this is great. Our best scores are pretty consistently around 0.73. Let's have a look at the data to see what was going on:"
   ]
  },
  {
   "cell_type": "code",
   "execution_count": 70,
   "id": "cf0e290b-b42b-497d-8594-01332cfc26ca",
   "metadata": {},
   "outputs": [
    {
     "name": "stdout",
     "output_type": "stream",
     "text": [
      "fatality_count\n",
      "0.0      5956\n",
      "1.0       532\n",
      "2.0       355\n",
      "3.0       268\n",
      "4.0       165\n",
      "         ... \n",
      "85.0        1\n",
      "69.0        1\n",
      "100.0       1\n",
      "280.0       1\n",
      "430.0       1\n",
      "Name: count, Length: 99, dtype: int64\n"
     ]
    }
   ],
   "source": [
    "print(df['fatality_count'].value_counts())"
   ]
  },
  {
   "cell_type": "code",
   "execution_count": 71,
   "id": "d11406e9-b0fd-4492-a0bd-7e6e70adaaa2",
   "metadata": {},
   "outputs": [
    {
     "name": "stdout",
     "output_type": "stream",
     "text": [
      "0.7324151500245942\n"
     ]
    }
   ],
   "source": [
    "print(5956/8132)"
   ]
  },
  {
   "cell_type": "markdown",
   "id": "15913a4c-2703-4aa6-ba51-61fe89910a8b",
   "metadata": {},
   "source": [
    "Roughly 73% of our data contains ones. This makes our Neural Net's results seem quite unimpressive. That said, it seems that there is simply too much variability in the conditions related to the different fatality counts to make useful interpretations of it. "
   ]
  },
  {
   "cell_type": "markdown",
   "id": "7959f38c-9eb5-4182-a783-63439ffcd712",
   "metadata": {},
   "source": [
    "Here is an SVM regressor that has some unique results as well:"
   ]
  },
  {
   "cell_type": "code",
   "execution_count": 72,
   "id": "8b73ca55-ed6a-474a-94cb-90d7ddc0ffb4",
   "metadata": {},
   "outputs": [],
   "source": [
    "from sklearn.svm import SVR\n",
    "\n",
    "def svr_run(X, y, kernel='sigmoid', degree=1, tol=0.001, C=1.0, epsilon=0.1, max_iter=1000):\n",
    "\n",
    "    X_train, X_test, y_train, y_test = train_test_split(X, y)\n",
    "    svr = SVR(kernel=kernel, degree=degree, tol=tol, C=C, epsilon=epsilon, max_iter=max_iter)\n",
    "\n",
    "    svr.fit(X_train, y_train)\n",
    "    training_score = svr.score(X_train, y_train)\n",
    "    test_score = svr.score(X_test, y_test)\n",
    "\n",
    "    return (training_score, test_score)\n"
   ]
  },
  {
   "cell_type": "code",
   "execution_count": 73,
   "id": "4a5220e1-032f-43b1-bc39-8f79e6378a49",
   "metadata": {},
   "outputs": [
    {
     "name": "stdout",
     "output_type": "stream",
     "text": [
      "Training set score: -165.78\n",
      "Test set score: -5841.56\n"
     ]
    }
   ],
   "source": [
    "degree = [1, 5, 13, 14]\n",
    "Cs = [1, 10, 20]\n",
    "max_iter = [1000, 100000]\n",
    "\n",
    "#the below is some testing with the svr model. It takes some time to run, but it is fun to see how bad results can get!\n",
    "\n",
    "#for d in degree:\n",
    "#    for c in Cs:\n",
    "#        for i in max_iter:\n",
    "#            print_results(svr_run(X, y, kernel='sigmoid', degree=d, tol=0.0001, C=c, epsilon=0.01, max_iter=i))\n",
    "\n",
    "print_results(svr_run(X, y, kernel='sigmoid', degree=14, tol=0.0001, C=10, epsilon=0.01, max_iter=100000))"
   ]
  },
  {
   "cell_type": "markdown",
   "id": "ad08c828-2f6d-4258-a747-9f81d102f3c3",
   "metadata": {},
   "source": [
    "# With Landslide Category as the Target\n",
    "Now we're doing a classification task"
   ]
  },
  {
   "cell_type": "code",
   "execution_count": null,
   "id": "bfb518f6-8195-4cd0-81eb-d8620ea892ce",
   "metadata": {},
   "outputs": [],
   "source": []
  },
  {
   "cell_type": "markdown",
   "id": "e04bbed4-22af-4a95-bd1f-3d1b6bcbb886",
   "metadata": {},
   "source": [
    "## KNN"
   ]
  },
  {
   "cell_type": "code",
   "execution_count": 74,
   "id": "1e5fce46-e405-4dae-8d43-0b5bc2960605",
   "metadata": {},
   "outputs": [],
   "source": [
    "from sklearn.neighbors import KNeighborsClassifier\n",
    "\n",
    "def knn_run(X, y, n=3.0):\n",
    "\n",
    "    X_train, X_test, y_train, y_test = train_test_split(X, y)\n",
    "    knn = KNeighborsClassifier(n_neighbors=n)\n",
    "\n",
    "    knn.fit(X_train, y_train)\n",
    "    training_score = knn.score(X_train, y_train)\n",
    "    test_score = knn.score(X_test, y_test)\n",
    "\n",
    "    return (training_score, test_score)\n"
   ]
  },
  {
   "cell_type": "code",
   "execution_count": 75,
   "id": "83c43f99-a58f-450a-b24e-b366bef3a41a",
   "metadata": {},
   "outputs": [
    {
     "name": "stdout",
     "output_type": "stream",
     "text": [
      "Training set score: 1.00\n",
      "Test set score: 0.63\n",
      "Training set score: 0.81\n",
      "Test set score: 0.69\n",
      "Training set score: 0.77\n",
      "Test set score: 0.71\n",
      "Training set score: 0.75\n",
      "Test set score: 0.71\n"
     ]
    }
   ],
   "source": [
    "print_results(knn_run(X, y, 1))\n",
    "print_results(knn_run(X, y, 2))\n",
    "print_results(knn_run(X, y, 3))\n",
    "print_results(knn_run(X, y, 5))"
   ]
  },
  {
   "cell_type": "markdown",
   "id": "4ee76d87-34af-4b0e-9ac8-41542b2164eb",
   "metadata": {},
   "source": [
    "## Support Vector Machine"
   ]
  },
  {
   "cell_type": "code",
   "execution_count": 76,
   "id": "c89a808d-ce13-435c-8568-59523e6138c9",
   "metadata": {},
   "outputs": [],
   "source": [
    "X = df.drop(columns='landslide_category_codes')\n",
    "y = df['landslide_category_codes']"
   ]
  },
  {
   "cell_type": "code",
   "execution_count": 77,
   "id": "c319b5b4-8f81-4295-a3dc-ac8f512835dc",
   "metadata": {},
   "outputs": [],
   "source": [
    "from sklearn.svm import SVC\n",
    "from sklearn.svm import LinearSVC\n",
    "\n",
    "def svm_run(X, y, degree=3, C=1.0, linear=False):\n",
    "    if linear:\n",
    "        svm = SVC(C=C, degree=degree)\n",
    "    else:\n",
    "        svm = LinearSVC(C=C)\n",
    "    svm.fit(X, y)\n",
    "    \n",
    "    X_train, X_test, y_train, y_test = train_test_split(X, y)\n",
    "    training_score = svm.score(X_train, y_train)\n",
    "    test_score = svm.score(X_test, y_test)\n",
    "\n",
    "    return (training_score, test_score)"
   ]
  },
  {
   "cell_type": "code",
   "execution_count": 78,
   "id": "b84f9b6a-14cf-4b0d-bfeb-496c227995e5",
   "metadata": {},
   "outputs": [
    {
     "name": "stdout",
     "output_type": "stream",
     "text": [
      "Training set score: 0.70\n",
      "Test set score: 0.68\n"
     ]
    }
   ],
   "source": [
    "print_results(svm_run(X, y, degree=13))"
   ]
  },
  {
   "cell_type": "code",
   "execution_count": 79,
   "id": "a1b900db-cc89-4304-936e-10bb4f8d6974",
   "metadata": {},
   "outputs": [
    {
     "name": "stdout",
     "output_type": "stream",
     "text": [
      "Training set score: 0.69\n",
      "Test set score: 0.69\n"
     ]
    }
   ],
   "source": [
    "print_results(svm_run(X, y, linear=True))"
   ]
  },
  {
   "cell_type": "markdown",
   "id": "74c07a83-d0fa-474e-8131-c91fcba20738",
   "metadata": {},
   "source": [
    "The support vector machine performs at about 70% no matter what parameters we provide. Even the linear support vector machine consistantly performs with about 70% accuracy. Changing the degree or C value doesn't seem to have an impact, as shown by this plot below."
   ]
  },
  {
   "cell_type": "code",
   "execution_count": 80,
   "id": "772c1272-9d98-455d-8a96-bf2d48ad102e",
   "metadata": {},
   "outputs": [
    {
     "data": {
      "text/plain": [
       "<function matplotlib.pyplot.show(close=None, block=None)>"
      ]
     },
     "execution_count": 80,
     "metadata": {},
     "output_type": "execute_result"
    },
    {
     "data": {
      "image/png": "[encoded data removed]",
      "text/plain": [
       "<Figure size 640x480 with 1 Axes>"
      ]
     },
     "metadata": {},
     "output_type": "display_data"
    }
   ],
   "source": [
    "import matplotlib.pyplot as plt\n",
    "\n",
    "training_scores = []\n",
    "test_scores = []\n",
    "c_values = [0.0001, 0.001, 0.01, 0.1, 1, 10, 100, 1000, 10000, 100000]\n",
    "for C in c_values:\n",
    "    training_score1, test_score1 = svm_run(X, y, C=C, degree=13)\n",
    "    training_score2, test_score2 = svm_run(X, y, C=C, degree=13)\n",
    "    training_score3, test_score3 = svm_run(X, y, C=C, degree=13)\n",
    "    training_score4, test_score4 = svm_run(X, y, C=C, degree=13)\n",
    "    training_scores.append(sum([training_score1, training_score2, training_score3, training_score4]) / 4)\n",
    "    test_scores.append(sum([test_score1, test_score2, test_score3, test_score4]) / 4)\n",
    "\n",
    "plt.plot(c_values, training_scores)\n",
    "plt.plot(c_values, test_scores)\n",
    "plt.xscale('log')\n",
    "plt.show"
   ]
  },
  {
   "cell_type": "markdown",
   "id": "bf259a65-3f9d-4147-bd69-3c91310ca990",
   "metadata": {},
   "source": [
    "## Multilayer Perceptron"
   ]
  },
  {
   "cell_type": "code",
   "execution_count": 81,
   "id": "1d7143a9-f314-487d-b5cb-49005a6ec743",
   "metadata": {},
   "outputs": [],
   "source": [
    "from sklearn.neural_network import MLPClassifier\n",
    "\n",
    "def mlp_run(X, y, hidden_layer_sizes):\n",
    "    mlp = MLPClassifier(hidden_layer_sizes=hidden_layer_sizes)\n",
    "    mlp.fit(X, y)\n",
    "\n",
    "    X_train, X_test, y_train, y_test = train_test_split(X, y)\n",
    "    training_score = mlp.score(X_train, y_train)\n",
    "    test_score = mlp.score(X_test, y_test)\n",
    "\n",
    "    return (training_score, test_score)"
   ]
  },
  {
   "cell_type": "code",
   "execution_count": 82,
   "id": "28c4e339-a12f-409a-9f1d-8969e3940be5",
   "metadata": {},
   "outputs": [
    {
     "name": "stdout",
     "output_type": "stream",
     "text": [
      "Training set score: 0.45\n",
      "Test set score: 0.45\n"
     ]
    }
   ],
   "source": [
    "print_results(mlp_run(X, y, (10)))"
   ]
  },
  {
   "cell_type": "code",
   "execution_count": 83,
   "id": "281b5d89-150d-4d95-916e-33bd06b272b1",
   "metadata": {},
   "outputs": [
    {
     "name": "stdout",
     "output_type": "stream",
     "text": [
      "Training set score: 0.66\n",
      "Test set score: 0.66\n"
     ]
    },
    {
     "name": "stderr",
     "output_type": "stream",
     "text": [
      "/penv/lib64/python3.9/site-packages/sklearn/neural_network/_multilayer_perceptron.py:697: UserWarning: Training interrupted by user.\n",
      "  warnings.warn(\"Training interrupted by user.\")\n"
     ]
    }
   ],
   "source": [
    "print_results(mlp_run(X, y, (100, 100, 100)))"
   ]
  },
  {
   "cell_type": "code",
   "execution_count": 84,
   "id": "d80699c9-fa7a-4599-9877-366c61086a77",
   "metadata": {},
   "outputs": [
    {
     "name": "stdout",
     "output_type": "stream",
     "text": [
      "Training set score: 0.35\n",
      "Test set score: 0.34\n"
     ]
    },
    {
     "name": "stderr",
     "output_type": "stream",
     "text": [
      "/penv/lib64/python3.9/site-packages/sklearn/neural_network/_multilayer_perceptron.py:697: UserWarning: Training interrupted by user.\n",
      "  warnings.warn(\"Training interrupted by user.\")\n"
     ]
    }
   ],
   "source": [
    "print_results(mlp_run(X, y, (100, 100, 100, 100)))"
   ]
  },
  {
   "cell_type": "markdown",
   "id": "3463a3f6-5b7d-450f-9dc4-57a6439ccff0",
   "metadata": {},
   "source": [
    "We found that the multilayer perceptron performs just as well as the support vector machine no matter and its accuracy seems to max at 71 percent or so, no matter how much power we throw at it."
   ]
  },
  {
   "cell_type": "code",
   "execution_count": null,
   "id": "e08c5418-9c01-4c37-858e-967f1fefd12d",
   "metadata": {},
   "outputs": [],
   "source": []
  },
  {
   "cell_type": "markdown",
   "id": "6e13599c-4790-40ce-bfb0-2600596b5b80",
   "metadata": {},
   "source": [
    "With all of that in mind, and noting the corralation in the fatality count regression task with the best test results and the proportion of the datapoints that were overwhealmingly skewing results, we were curious what proportion of the category column was of the majority type. "
   ]
  },
  {
   "cell_type": "code",
   "execution_count": 85,
   "id": "27a66d0a-4f2b-4955-915d-80a9c2be7d0f",
   "metadata": {},
   "outputs": [
    {
     "name": "stdout",
     "output_type": "stream",
     "text": [
      "landslide_category_codes\n",
      "5     5616\n",
      "6     1588\n",
      "10     456\n",
      "0      167\n",
      "2      155\n",
      "8       65\n",
      "14      36\n",
      "9       24\n",
      "11       7\n",
      "13       6\n",
      "1        5\n",
      "4        4\n",
      "3        3\n",
      "Name: count, dtype: int64\n"
     ]
    }
   ],
   "source": [
    "print(df['landslide_category_codes'].value_counts())"
   ]
  },
  {
   "cell_type": "code",
   "execution_count": 86,
   "id": "ab1f2202-7c60-4f8e-8fc1-29bcb62f2f12",
   "metadata": {},
   "outputs": [
    {
     "name": "stdout",
     "output_type": "stream",
     "text": [
      "0.690605017215937\n"
     ]
    }
   ],
   "source": [
    "print(5616/8132)"
   ]
  },
  {
   "cell_type": "markdown",
   "id": "55132f49-52a3-4132-9eae-c62bee752ca7",
   "metadata": {},
   "source": [
    "This is quite curious, but it makes sense. The data is so skewed, and there is so much variability in the features corresponding with the \"landslide\" type, that the best results come from essentially just picking \"landslide\" across the board. This is a bit disappointing to learn, but it is useful for us to have learned that this is a fault of heavily skewed datasets."
   ]
  },
  {
   "cell_type": "markdown",
   "id": "85196a83-ea60-4b61-8f4f-3fa3e3fb0571",
   "metadata": {},
   "source": [
    "# Landslide Size Prediction"
   ]
  },
  {
   "cell_type": "code",
   "execution_count": 91,
   "id": "f09bbc86-1667-4541-9e15-6c32b4ef344c",
   "metadata": {},
   "outputs": [
    {
     "name": "stdout",
     "output_type": "stream",
     "text": [
      "landslide_size_codes\n",
      "2    4969\n",
      "1    1758\n",
      "0     806\n",
      "3     530\n",
      "4      69\n",
      "Name: count, dtype: int64\n"
     ]
    },
    {
     "data": {
      "image/png": "[encoded data removed]",
      "text/plain": [
       "<Figure size 640x480 with 1 Axes>"
      ]
     },
     "metadata": {},
     "output_type": "display_data"
    }
   ],
   "source": [
    "print(df['landslide_size_codes'].value_counts()) #THIS IS SUPER MEGA PROMISSING!!!!!!\n",
    "\n",
    "import matplotlib.pyplot as plt\n",
    "\n",
    "df['landslide_size_codes'].value_counts().sort_index().plot(kind='bar')\n",
    "plt.xlabel(\"Landslide Size Codes\")\n",
    "plt.ylabel(\"Frequency\")\n",
    "plt.title(\"Distribution of Landslide Size Codes\")\n",
    "plt.show()"
   ]
  },
  {
   "cell_type": "markdown",
   "id": "f69aaf3f-be87-4c09-a162-c0c1bac1455c",
   "metadata": {},
   "source": [
    "# Other Fun Data Visualizations"
   ]
  },
  {
   "cell_type": "markdown",
   "id": "74ab6295-cd74-4f9f-be61-e21f11a7357d",
   "metadata": {},
   "source": [
    "This section contains some visualizations we discovered were quite interesting. We were able to use some of it to help us reason through the  "
   ]
  },
  {
   "cell_type": "code",
   "execution_count": 88,
   "id": "0d7ac10b-d04b-421b-b9d5-42f086e4bf8e",
   "metadata": {},
   "outputs": [
    {
     "ename": "NameError",
     "evalue": "name 'nan_filtered_df' is not defined",
     "output_type": "error",
     "traceback": [
      "\u001b[0;31m---------------------------------------------------------------------------\u001b[0m",
      "\u001b[0;31mNameError\u001b[0m                                 Traceback (most recent call last)",
      "Cell \u001b[0;32mIn[88], line 3\u001b[0m\n\u001b[1;32m      1\u001b[0m \u001b[38;5;28;01mfrom\u001b[39;00m \u001b[38;5;21;01mpandas\u001b[39;00m\u001b[38;5;21;01m.\u001b[39;00m\u001b[38;5;21;01mplotting\u001b[39;00m \u001b[38;5;28;01mimport\u001b[39;00m scatter_matrix\n\u001b[0;32m----> 3\u001b[0m smatrix \u001b[38;5;241m=\u001b[39m scatter_matrix(\u001b[43mnan_filtered_df\u001b[49m, alpha\u001b[38;5;241m=\u001b[39m\u001b[38;5;241m0.2\u001b[39m, c\u001b[38;5;241m=\u001b[39mnan_filtered_df[\u001b[38;5;124m'\u001b[39m\u001b[38;5;124mlandslide_category_codes\u001b[39m\u001b[38;5;124m'\u001b[39m], figsize\u001b[38;5;241m=\u001b[39m(\u001b[38;5;241m12\u001b[39m, \u001b[38;5;241m12\u001b[39m), diagonal\u001b[38;5;241m=\u001b[39m\u001b[38;5;124m\"\u001b[39m\u001b[38;5;124mhist\u001b[39m\u001b[38;5;124m\"\u001b[39m)\n\u001b[1;32m      5\u001b[0m \u001b[38;5;66;03m# label rotation code written by Stef: https://stackoverflow.com/a/58626024\u001b[39;00m\n\u001b[1;32m      6\u001b[0m \u001b[38;5;28;01mfor\u001b[39;00m ax \u001b[38;5;129;01min\u001b[39;00m smatrix\u001b[38;5;241m.\u001b[39mflatten():\n",
      "\u001b[0;31mNameError\u001b[0m: name 'nan_filtered_df' is not defined"
     ]
    }
   ],
   "source": [
    "from pandas.plotting import scatter_matrix\n",
    "\n",
    "smatrix = scatter_matrix(nan_filtered_df, alpha=0.2, c=nan_filtered_df['landslide_category_codes'], figsize=(12, 12), diagonal=\"hist\")\n",
    "\n",
    "# label rotation code written by Stef: https://stackoverflow.com/a/58626024\n",
    "for ax in smatrix.flatten():\n",
    "    ax.xaxis.label.set_rotation(90)\n",
    "    ax.yaxis.label.set_rotation(0)\n",
    "    ax.yaxis.label.set_ha('right')"
   ]
  },
  {
   "cell_type": "code",
   "execution_count": null,
   "id": "b46c3d4e-33e8-4dc7-b262-345bda556198",
   "metadata": {},
   "outputs": [],
   "source": [
    "import pandas as pd\n",
    "import matplotlib.pyplot as plt\n",
    "\n",
    "# Create the scatter plot, coloring points by 'col3'\n",
    "plt.figure(figsize=(12, 7)) # Adjust figure size if needed\n",
    "scatter = plt.scatter(df['longitude'], df['latitude'], c=df['landslide_category_codes'], cmap='viridis')\n",
    "\n",
    "# Add labels and title\n",
    "plt.xlabel('Longitude')\n",
    "plt.ylabel('Latitude')\n",
    "plt.title('Map of Landslide Categories')\n",
    "\n",
    "# Create legend\n",
    "legend_labels = df['landslide_category_codes'].unique()\n",
    "plt.legend(handles=scatter.legend_elements()[0], labels=legend_labels, title='landslide_category_codes')\n",
    "\n",
    "# Show the plot\n",
    "plt.show()\n",
    "plt.legend()"
   ]
  },
  {
   "cell_type": "markdown",
   "id": "d8d2df34-8dcc-46d1-9a9c-7773a5a5a16f",
   "metadata": {},
   "source": [
    "### Examples of Different Categories of Landslides\n",
    "\n",
    "earth flow:\n",
    "https://www.youtube.com/shorts/bYnTXkIJaOI\n",
    "\n"
   ]
  },
  {
   "cell_type": "code",
   "execution_count": null,
   "id": "a7b33fea-39b5-4eba-baa7-1d4c103d6c6e",
   "metadata": {},
   "outputs": [],
   "source": []
  }
 ],
 "metadata": {
  "kernelspec": {
   "display_name": "Python 3 (ipykernel)",
   "language": "python",
   "name": "python3"
  },
  "language_info": {
   "codemirror_mode": {
    "name": "ipython",
    "version": 3
   },
   "file_extension": ".py",
   "mimetype": "text/x-python",
   "name": "python",
   "nbconvert_exporter": "python",
   "pygments_lexer": "ipython3",
   "version": "3.9.21"
  }
 },
 "nbformat": 4,
 "nbformat_minor": 5
}
